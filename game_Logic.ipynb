{
 "cells": [
  {
   "cell_type": "markdown",
   "id": "e0f12334",
   "metadata": {},
   "source": [
    "# Create a deck of 52 cards\n",
    "\n",
    "Shuffle the deck\n",
    "\n",
    "Ask the Player for their bet\n",
    "\n",
    "Make sure that the Player's bet does not exceed their available chips\n",
    "\n",
    "Deal two cards to the Dealer and two cards to the Player\n",
    "\n",
    "Show only one of the Dealer's cards, the other remains hidden\n",
    "\n",
    "Show both of the Player's cards\n",
    "\n",
    "Ask the Player if they wish to Hit, and take another card\n",
    "\n",
    "If the Player's hand doesn't Bust (go over 21), ask if they'd like to Hit again.\n",
    "\n",
    "If a Player Stands, play the Dealer's hand. The dealer will always Hit until the Dealer's value meets or exceeds 17\n",
    "\n",
    "Determine the winner and adjust the Player's chips accordingly\n",
    "\n",
    "Ask the Player if they'd like to play again"
   ]
  }
 ],
 "metadata": {
  "kernelspec": {
   "display_name": "Python 3 (ipykernel)",
   "language": "python",
   "name": "python3"
  },
  "language_info": {
   "codemirror_mode": {
    "name": "ipython",
    "version": 3
   },
   "file_extension": ".py",
   "mimetype": "text/x-python",
   "name": "python",
   "nbconvert_exporter": "python",
   "pygments_lexer": "ipython3",
   "version": "3.9.13"
  }
 },
 "nbformat": 4,
 "nbformat_minor": 5
}
